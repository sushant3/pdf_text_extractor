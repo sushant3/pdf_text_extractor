{
 "cells": [
  {
   "cell_type": "code",
   "execution_count": null,
   "metadata": {},
   "outputs": [],
   "source": [
    "#imports\n",
    "import re\n",
    "import os\n",
    "import pandas as pd\n",
    "from pprint import pprint"
   ]
  },
  {
   "cell_type": "code",
   "execution_count": null,
   "metadata": {},
   "outputs": [],
   "source": [
    "# process each row function\n",
    "def func(row):\n",
    "    row = re.sub(r'\\s{3,}', '\\t', row).strip().split('\\t')\n",
    "    if len(row)==1:     #to remove empty row by putting None for that position\n",
    "        if row[0]=='':\n",
    "            return None\n",
    "    elif len(row)==2:   #to removes row with only 2 columns filled (member total row gets removed) - by placing None as value for that row\n",
    "        return None\n",
    "    elif len(row)==5:   #extract the amount column from row with memberid/name and place it in 14th column\n",
    "        bal = row[-3]\n",
    "        row[-3] = '#'\n",
    "        row = row + ['']*8\n",
    "        row.append(bal)\n",
    "    else:               #extract the amount,user column from all remaining rows place it in 14th/15th column\n",
    "        bal = row[-2]\n",
    "        user = row[-1]\n",
    "        row[-2] = '#'\n",
    "        row[-1] = '#'\n",
    "        row = row + [''] * (13-len(row))\n",
    "        row.append(bal)\n",
    "        row.append(user)\n",
    "    return row\n"
   ]
  },
  {
   "cell_type": "code",
   "execution_count": null,
   "metadata": {},
   "outputs": [],
   "source": [
    "import os\n",
    "notebook_path = os.path.abspath(\"pdf_text_extractor.ipynb\")\n",
    "print(notebook_path)\n",
    "work_dir = os.path.dirname(notebook_path)"
   ]
  },
  {
   "cell_type": "code",
   "execution_count": null,
   "metadata": {},
   "outputs": [],
   "source": [
    "# define the input filepath\n",
    "file = os.path.join(work_dir,'DataWindow.txt')\n",
    "\n",
    "# read input file\n",
    "with open(file) as filetext:\n",
    "    file_content_list = filetext.readlines()\n",
    "pprint(file_content_list[:20])"
   ]
  },
  {
   "cell_type": "code",
   "execution_count": null,
   "metadata": {},
   "outputs": [],
   "source": [
    "# applying the func function to each row\n",
    "conv_content_list = list(map(func, file_content_list))\n",
    "\n",
    "# remove rows with None\n",
    "conv_content_list = [val for val in conv_content_list if val]\n",
    "pprint(conv_content_list[:6])"
   ]
  },
  {
   "cell_type": "code",
   "execution_count": null,
   "metadata": {},
   "outputs": [],
   "source": [
    "'''Clean up'''\n",
    "# creating page break and the column info rows list\n",
    "page_break = []\n",
    "doctor_name =[]\n",
    "for idx,row in enumerate(conv_content_list[7:]): #conv_content_list[7:] to remove column names etc from begininng\n",
    "    if row[0][:28]=='----------------------- Page':\n",
    "        idx_list = list(range(idx,idx+7,1))\n",
    "        page_break = page_break + idx_list\n",
    "    elif row[0].strip() =='*Bold indicates transaction has been deleted or voided':\n",
    "        page_break.append(idx)\n",
    "    if '.0-' in row[0]:\n",
    "        doctor_name.append(idx)\n",
    "        \n",
    "pprint(f'page_break row list (showing limited list):{page_break[:20]}')\n",
    "pprint(f'member name row list (showing limited list):{doctor_name[:20]}')"
   ]
  },
  {
   "cell_type": "code",
   "execution_count": null,
   "metadata": {},
   "outputs": [],
   "source": [
    "# creating member index list for transactions for belonging to same member\n",
    "index_key = []\n",
    "for i,idx in enumerate(doctor_name):\n",
    "    try:\n",
    "        idx_list = [idx]*(doctor_name[i+1]-idx)\n",
    "    except IndexError:\n",
    "        idx_list = [idx]*(len(conv_content_list[7:])-idx)\n",
    "    index_key.extend(idx_list)"
   ]
  },
  {
   "cell_type": "code",
   "execution_count": null,
   "metadata": {},
   "outputs": [],
   "source": [
    "# create pandas table (dateframe) from list of rows\n",
    "df = pd.DataFrame(conv_content_list[7:])        #conv_content_list[7:] to remove column names etc from begininng\n",
    "\n",
    "# fill empty cells with np.nan\n",
    "df.fillna(value=pd.np.nan, inplace=True)\n",
    "# df['idx'] = df.count(axis=1)\n",
    "\n",
    "# creating index column\n",
    "df = df.reset_index()\n",
    "\n",
    "''' more cleanup and data massaging'''\n",
    "# creating the member index \n",
    "df['index_key'] = index_key\n",
    "\n",
    "# removing the end of file summary rows as they don't conform to the transaction columns\n",
    "# change the row number based on the file.\n",
    "# print(df.iloc[3580:3600])\n",
    "df = df[:3592]\n",
    "\n",
    "# removing the page break etc rows\n",
    "df = df[~df['index'].isin(page_break)]\n",
    "\n",
    "# setting index based on member id index list column\n",
    "df = df.set_index('index_key')\n",
    "df_tmp = df.drop(columns=['index'])\n",
    "\n",
    "print('********Head********\\n',df.head())\n",
    "print('********Tail********\\n',df.tail())"
   ]
  },
  {
   "cell_type": "code",
   "execution_count": null,
   "metadata": {},
   "outputs": [],
   "source": [
    "'''to get memberid/name for each transaction row'''\n",
    "# splitting df for memberid/name rows and removing duplicates due to parsing errors.\n",
    "df_name = df_tmp[df_tmp[14].isna()]\n",
    "df_name = df_name.loc[~df_name.index.duplicated(keep='first')][[0,1]]\n",
    "\n",
    "# df for transaction rows\n",
    "df_trans = df_tmp[~df_tmp[14].isna()]\n",
    "\n",
    "# merging the name & transaction df to get memberid/name for each transaction row (uses member id indexes)\n",
    "new_df = pd.merge(df_name,df_trans,how='outer',left_index=True,right_index=True)\n",
    "print(new_df.head())"
   ]
  },
  {
   "cell_type": "code",
   "execution_count": null,
   "metadata": {},
   "outputs": [],
   "source": [
    "# outputing the csv file\n",
    "output_file = os.path.join(work_dir,'output.csv')\n",
    "new_df.to_csv(output_file)\n",
    "\n",
    "print('Output file:',output_file)\n"
   ]
  }
 ],
 "metadata": {
  "kernelspec": {
   "display_name": "Python 3",
   "language": "python",
   "name": "python3"
  },
  "language_info": {
   "codemirror_mode": {
    "name": "ipython",
    "version": 3
   },
   "file_extension": ".py",
   "mimetype": "text/x-python",
   "name": "python",
   "nbconvert_exporter": "python",
   "pygments_lexer": "ipython3",
   "version": "3.6.7"
  }
 },
 "nbformat": 4,
 "nbformat_minor": 1
}
